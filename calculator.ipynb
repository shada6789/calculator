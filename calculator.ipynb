{
  "nbformat": 4,
  "nbformat_minor": 0,
  "metadata": {
    "colab": {
      "provenance": []
    },
    "kernelspec": {
      "name": "python3",
      "display_name": "Python 3"
    },
    "language_info": {
      "name": "python"
    }
  },
  "cells": [
    {
      "cell_type": "code",
      "execution_count": 10,
      "metadata": {
        "colab": {
          "base_uri": "https://localhost:8080/"
        },
        "id": "ZRlh7x5753vI",
        "outputId": "7080fcde-7215-4998-bc68-e72b6e824c23"
      },
      "outputs": [
        {
          "output_type": "stream",
          "name": "stdout",
          "text": [
            "Enter the operater (+ - * /):-\n",
            "Enter the first number:1\n",
            "Enter the second number:2\n",
            "-1.0\n"
          ]
        }
      ],
      "source": [
        "operator=input(\"Enter the operater (+ - * /):\")\n",
        "number1=float(input(\"Enter the first number:\"))\n",
        "number2=float(input(\"Enter the second number:\"))\n",
        "if operator=='+':\n",
        "   result=number1+number2\n",
        "   print(round(result,2))\n",
        "elif operator=='-':\n",
        "    result=number1-number2\n",
        "    print(round(result,2))\n",
        "elif operator=='*':\n",
        "    result=number1*number2\n",
        "    print(round(result,2))\n",
        "elif operator=='/':\n",
        "    result=number1/number2\n",
        "    print(round(result,2))\n",
        "else:\n",
        "  print(\"the operator not found\")\n",
        "\n"
      ]
    }
  ]
}